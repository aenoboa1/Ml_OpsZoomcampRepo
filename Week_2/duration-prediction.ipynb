{
 "cells": [
  {
   "cell_type": "code",
   "execution_count": 1,
   "id": "b2bd82d7",
   "metadata": {},
   "outputs": [
    {
     "name": "stdout",
     "output_type": "stream",
     "text": [
      "Python 3.9.7\n"
     ]
    }
   ],
   "source": [
    "!python -V"
   ]
  },
  {
   "cell_type": "code",
   "execution_count": 2,
   "id": "41062d8a",
   "metadata": {},
   "outputs": [],
   "source": [
    "import pandas as pd"
   ]
  },
  {
   "cell_type": "code",
   "execution_count": 3,
   "id": "c984c564",
   "metadata": {},
   "outputs": [],
   "source": [
    "import pickle"
   ]
  },
  {
   "cell_type": "code",
   "execution_count": 4,
   "id": "4add538c",
   "metadata": {},
   "outputs": [],
   "source": [
    "import seaborn as sns\n",
    "import matplotlib.pyplot as plt"
   ]
  },
  {
   "cell_type": "code",
   "execution_count": 5,
   "id": "8b135c2b",
   "metadata": {},
   "outputs": [],
   "source": [
    "from sklearn.feature_extraction import DictVectorizer\n",
    "from sklearn.linear_model import LinearRegression\n",
    "from sklearn.linear_model import Lasso\n",
    "from sklearn.linear_model import Ridge\n",
    "\n",
    "from sklearn.metrics import mean_squared_error"
   ]
  },
  {
   "cell_type": "code",
   "execution_count": 6,
   "id": "b20c01ac",
   "metadata": {},
   "outputs": [
    {
     "data": {
      "text/plain": [
       "<Experiment: artifact_location='./mlruns/1', experiment_id='1', lifecycle_stage='active', name='nyctaxi_experiments', tags={}>"
      ]
     },
     "execution_count": 6,
     "metadata": {},
     "output_type": "execute_result"
    }
   ],
   "source": [
    "import mlflow\n",
    "\n",
    "mlflow.set_tracking_uri(\"sqlite:///mlflow.db\")\n",
    "mlflow.set_experiment(\"nyctaxi_experiments\")\n"
   ]
  },
  {
   "cell_type": "code",
   "execution_count": 2,
   "id": "14d3eb75",
   "metadata": {},
   "outputs": [
    {
     "name": "stderr",
     "output_type": "stream",
     "text": [
      "--2022-06-24 01:04:47--  https://s3.amazonaws.com/nyc-tlc/trip+data/green_tripdata_2021-01.parquet\n",
      "Resolving s3.amazonaws.com... 52.217.165.64\n",
      "Connecting to s3.amazonaws.com|52.217.165.64|:443... connected.\n",
      "HTTP request sent, awaiting response... 200 OK\n",
      "Length: 1333519 (1.3M) [binary/octet-stream]\n",
      "Saving to: './data/2021/green_tripdata_2021-01.parquet'\n",
      "\n",
      "     0K .......... .......... .......... .......... ..........  3%  318K 4s\n",
      "    50K .......... .......... .......... .......... ..........  7% 42.6M 2s\n",
      "   100K .......... .......... .......... .......... .......... 11%  645K 2s\n",
      "   150K .......... .......... .......... .......... .......... 15% 23.3M 1s\n",
      "   200K .......... .......... .......... .......... .......... 19% 18.9M 1s\n",
      "   250K .......... .......... .......... .......... .......... 23%  680K 1s\n",
      "   300K .......... .......... .......... .......... .......... 26% 19.4M 1s\n",
      "   350K .......... .......... .......... .......... .......... 30% 18.8M 1s\n",
      "   400K .......... .......... .......... .......... .......... 34% 18.4M 1s\n",
      "   450K .......... .......... .......... .......... .......... 38% 18.9M 1s\n",
      "   500K .......... .......... .......... .......... .......... 42% 19.3M 0s\n",
      "   550K .......... .......... .......... .......... .......... 46%  760K 0s\n",
      "   600K .......... .......... .......... .......... .......... 49% 18.9M 0s\n",
      "   650K .......... .......... .......... .......... .......... 53% 18.9M 0s\n",
      "   700K .......... .......... .......... .......... .......... 57% 18.8M 0s\n",
      "   750K .......... .......... .......... .......... .......... 61% 19.0M 0s\n",
      "   800K .......... .......... .......... .......... .......... 65% 18.4M 0s\n",
      "   850K .......... .......... .......... .......... .......... 69% 18.8M 0s\n",
      "   900K .......... .......... .......... .......... .......... 72% 26.4M 0s\n",
      "   950K .......... .......... .......... .......... .......... 76% 19.2M 0s\n",
      "  1000K .......... .......... .......... .......... .......... 80% 18.8M 0s\n",
      "  1050K .......... .......... .......... .......... .......... 84% 18.9M 0s\n",
      "  1100K .......... .......... .......... .......... .......... 88% 18.5M 0s\n",
      "  1150K .......... .......... .......... .......... .......... 92%  985K 0s\n",
      "  1200K .......... .......... .......... .......... .......... 95% 20.8M 0s\n",
      "  1250K .......... .......... .......... .......... .......... 99% 20.8M 0s\n",
      "  1300K ..                                                    100% 4.22T=0.5s\n",
      "\n",
      "2022-06-24 01:04:48 (2.67 MB/s) - './data/2021/green_tripdata_2021-01.parquet' saved [1333519/1333519]\n",
      "\n",
      "--2022-06-24 01:04:48--  https://s3.amazonaws.com/nyc-tlc/trip+data/green_tripdata_2021-02.parquet\n",
      "Resolving s3.amazonaws.com... 52.217.165.64\n",
      "Connecting to s3.amazonaws.com|52.217.165.64|:443... connected.\n",
      "HTTP request sent, awaiting response... 200 OK\n",
      "Length: 1145679 (1.1M) [binary/octet-stream]\n",
      "Saving to: './data/2021/green_tripdata_2021-02.parquet'\n",
      "\n",
      "     0K .......... .......... .......... .......... ..........  4%  618K 2s\n",
      "    50K .......... .......... .......... .......... ..........  8%  619K 2s\n",
      "   100K .......... .......... .......... .......... .......... 13%  630K 2s\n",
      "   150K .......... .......... .......... .......... .......... 17% 20.0M 1s\n",
      "   200K .......... .......... .......... .......... .......... 22% 18.9M 1s\n",
      "   250K .......... .......... .......... .......... .......... 26%  662K 1s\n",
      "   300K .......... .......... .......... .......... .......... 31% 24.6M 1s\n",
      "   350K .......... .......... .......... .......... .......... 35% 18.8M 1s\n",
      "   400K .......... .......... .......... .......... .......... 40% 18.9M 0s\n",
      "   450K .......... .......... .......... .......... .......... 44% 19.4M 0s\n",
      "   500K .......... .......... .......... .......... .......... 49% 18.7M 0s\n",
      "   550K .......... .......... .......... .......... .......... 53%  755K 0s\n",
      "   600K .......... .......... .......... .......... .......... 58% 15.9M 0s\n",
      "   650K .......... .......... .......... .......... .......... 62% 18.2M 0s\n",
      "   700K .......... .......... .......... .......... .......... 67% 18.8M 0s\n",
      "   750K .......... .......... .......... .......... .......... 71% 18.9M 0s\n",
      "   800K .......... .......... .......... .......... .......... 75% 18.9M 0s\n",
      "   850K .......... .......... .......... .......... .......... 80% 24.0M 0s\n",
      "   900K .......... .......... .......... .......... .......... 84% 20.0M 0s\n",
      "   950K .......... .......... .......... .......... .......... 89% 19.2M 0s\n",
      "  1000K .......... .......... .......... .......... .......... 93% 18.9M 0s\n",
      "  1050K .......... .......... .......... .......... .......... 98% 19.7M 0s\n",
      "  1100K .......... ........                                   100% 22.2M=0.4s\n",
      "\n",
      "2022-06-24 01:04:49 (2.56 MB/s) - './data/2021/green_tripdata_2021-02.parquet' saved [1145679/1145679]\n",
      "\n",
      "--2022-06-24 01:04:49--  https://s3.amazonaws.com/nyc-tlc/trip+data/green_tripdata_2021-03.parquet\n",
      "Resolving s3.amazonaws.com... 52.216.65.91\n",
      "Connecting to s3.amazonaws.com|52.216.65.91|:443... connected.\n",
      "HTTP request sent, awaiting response... 200 OK\n",
      "Length: 1474538 (1.4M) [binary/octet-stream]\n",
      "Saving to: './data/2021/green_tripdata_2021-03.parquet'\n",
      "\n",
      "     0K .......... .......... .......... .......... ..........  3%  611K 2s\n",
      "    50K .......... .......... .......... .......... ..........  6%  614K 2s\n",
      "   100K .......... .......... .......... .......... .......... 10%  622K 2s\n",
      "   150K .......... .......... .......... .......... .......... 13% 19.5M 2s\n",
      "   200K .......... .......... .......... .......... .......... 17% 1.23M 1s\n",
      "   250K .......... .......... .......... .......... .......... 20% 1.25M 1s\n",
      "   300K .......... .......... .......... .......... .......... 24% 18.8M 1s\n",
      "   350K .......... .......... .......... .......... .......... 27% 19.0M 1s\n",
      "   400K .......... .......... .......... .......... .......... 31% 18.9M 1s\n",
      "   450K .......... .......... .......... .......... .......... 34% 18.7M 1s\n",
      "   500K .......... .......... .......... .......... .......... 38%  719K 1s\n",
      "   550K .......... .......... .......... .......... .......... 41% 18.9M 1s\n",
      "   600K .......... .......... .......... .......... .......... 45% 18.9M 0s\n",
      "   650K .......... .......... .......... .......... .......... 48% 18.8M 0s\n",
      "   700K .......... .......... .......... .......... .......... 52% 18.9M 0s\n",
      "   750K .......... .......... .......... .......... .......... 55% 18.8M 0s\n",
      "   800K .......... .......... .......... .......... .......... 59% 19.0M 0s\n",
      "   850K .......... .......... .......... .......... .......... 62% 27.0M 0s\n",
      "   900K .......... .......... .......... .......... .......... 65% 19.2M 0s\n",
      "   950K .......... .......... .......... .......... .......... 69% 18.8M 0s\n",
      "  1000K .......... .......... .......... .......... .......... 72% 2.44M 0s\n",
      "  1050K .......... .......... .......... .......... .......... 76% 1.27M 0s\n",
      "  1100K .......... .......... .......... .......... .......... 79% 18.2M 0s\n",
      "  1150K .......... .......... .......... .......... .......... 83% 18.6M 0s\n",
      "  1200K .......... .......... .......... .......... .......... 86% 19.2M 0s\n",
      "  1250K .......... .......... .......... .......... .......... 90% 18.9M 0s\n",
      "  1300K .......... .......... .......... .......... .......... 93% 19.4M 0s\n",
      "  1350K .......... .......... .......... .......... .......... 97% 19.0M 0s\n",
      "  1400K .......... .......... .......... .........            100% 24.4M=0.5s\n",
      "\n",
      "2022-06-24 01:04:50 (2.79 MB/s) - './data/2021/green_tripdata_2021-03.parquet' saved [1474538/1474538]\n",
      "\n"
     ]
    }
   ],
   "source": []
  },
  {
   "cell_type": "code",
   "execution_count": 8,
   "id": "8e013caf",
   "metadata": {},
   "outputs": [],
   "source": [
    "df = pd.read_parquet('./data/2021/green_tripdata_2021-01.parquet')\n",
    "\n",
    "df['duration'] = df.lpep_dropoff_datetime - df.lpep_pickup_datetime\n",
    "df.duration = df.duration.apply(lambda td: td.total_seconds() / 60)\n",
    "\n",
    "df = df[(df.duration >= 1) & (df.duration <= 60)]\n",
    "\n",
    "categorical = ['PULocationID', 'DOLocationID']\n",
    "numerical = ['trip_distance']\n",
    "\n",
    "df[categorical] = df[categorical].astype(str)"
   ]
  },
  {
   "cell_type": "code",
   "execution_count": 9,
   "id": "116ff0cc",
   "metadata": {},
   "outputs": [
    {
     "data": {
      "text/plain": [
       "9.838799799829435"
      ]
     },
     "execution_count": 9,
     "metadata": {},
     "output_type": "execute_result"
    }
   ],
   "source": [
    "train_dicts = df[categorical + numerical].to_dict(orient='records')\n",
    "\n",
    "dv = DictVectorizer()\n",
    "X_train = dv.fit_transform(train_dicts)\n",
    "\n",
    "target = 'duration'\n",
    "y_train = df[target].values\n",
    "\n",
    "lr = LinearRegression()\n",
    "lr.fit(X_train, y_train)\n",
    "\n",
    "y_pred = lr.predict(X_train)\n",
    "\n",
    "mean_squared_error(y_train, y_pred, squared=False)"
   ]
  },
  {
   "cell_type": "code",
   "execution_count": 10,
   "id": "8b88d6f3",
   "metadata": {},
   "outputs": [],
   "source": [
    "plt.style.use(\"ggplot\")"
   ]
  },
  {
   "cell_type": "code",
   "execution_count": 11,
   "id": "b134c97b",
   "metadata": {},
   "outputs": [
    {
     "name": "stderr",
     "output_type": "stream",
     "text": [
      "/home/elegant00/miniconda3/envs/Ml_Ops/lib/python3.9/site-packages/seaborn/distributions.py:2619: FutureWarning: `distplot` is a deprecated function and will be removed in a future version. Please adapt your code to use either `displot` (a figure-level function with similar flexibility) or `histplot` (an axes-level function for histograms).\n",
      "  warnings.warn(msg, FutureWarning)\n",
      "/home/elegant00/miniconda3/envs/Ml_Ops/lib/python3.9/site-packages/seaborn/distributions.py:2619: FutureWarning: `distplot` is a deprecated function and will be removed in a future version. Please adapt your code to use either `displot` (a figure-level function with similar flexibility) or `histplot` (an axes-level function for histograms).\n",
      "  warnings.warn(msg, FutureWarning)\n"
     ]
    },
    {
     "data": {
      "image/png": "[encoded data removed]",
      "text/plain": [
       "<Figure size 432x288 with 1 Axes>"
      ]
     },
     "metadata": {
      "needs_background": "light"
     },
     "output_type": "display_data"
    }
   ],
   "source": [
    "sns.distplot(y_pred, label='prediction')\n",
    "sns.distplot(y_train, label='actual')\n",
    "\n",
    "plt.legend();"
   ]
  },
  {
   "cell_type": "code",
   "execution_count": 12,
   "id": "f9e6479e",
   "metadata": {},
   "outputs": [],
   "source": [
    "def read_dataframe(filename):\n",
    "    if filename.endswith('.csv'):\n",
    "        df = pd.read_csv(filename)\n",
    "    \n",
    "        df.lpep_dropoff_datetime = pd.to_datetime(df.lpep_dropoff_datetime)\n",
    "        df.lpep_pickup_datetime = pd.to_datetime(df.lpep_pickup_datetime)\n",
    "    elif filename.endswith('.parquet'):\n",
    "        df = pd.read_parquet(filename)\n",
    "\n",
    "    df['duration'] = df.lpep_dropoff_datetime - df.lpep_pickup_datetime\n",
    "    df.duration = df.duration.apply(lambda td: td.total_seconds() / 60)\n",
    "\n",
    "    df = df[(df.duration >= 1) & (df.duration <= 60)]\n",
    "\n",
    "    categorical = ['PULocationID', 'DOLocationID']\n",
    "    df[categorical] = df[categorical].astype(str)\n",
    "    \n",
    "    return df"
   ]
  },
  {
   "cell_type": "code",
   "execution_count": 13,
   "id": "8029eba0",
   "metadata": {},
   "outputs": [],
   "source": [
    "df_train = read_dataframe('./data/2021/green_tripdata_2021-01.parquet')\n",
    "df_val = read_dataframe('./data/2021/green_tripdata_2021-02.parquet')"
   ]
  },
  {
   "cell_type": "code",
   "execution_count": 14,
   "id": "f6f2f0eb",
   "metadata": {},
   "outputs": [
    {
     "data": {
      "text/plain": [
       "(73908, 61921)"
      ]
     },
     "execution_count": 14,
     "metadata": {},
     "output_type": "execute_result"
    }
   ],
   "source": [
    "len(df_train), len(df_val)"
   ]
  },
  {
   "cell_type": "code",
   "execution_count": 15,
   "id": "951d51ef",
   "metadata": {},
   "outputs": [],
   "source": [
    "df_train['PU_DO'] = df_train['PULocationID'] + '_' + df_train['DOLocationID']\n",
    "df_val['PU_DO'] = df_val['PULocationID'] + '_' + df_val['DOLocationID']"
   ]
  },
  {
   "cell_type": "code",
   "execution_count": 16,
   "id": "c5cbfc25",
   "metadata": {},
   "outputs": [],
   "source": [
    "categorical = ['PU_DO'] #'PULocationID', 'DOLocationID']\n",
    "numerical = ['trip_distance']\n",
    "\n",
    "dv = DictVectorizer()\n",
    "\n",
    "train_dicts = df_train[categorical + numerical].to_dict(orient='records')\n",
    "X_train = dv.fit_transform(train_dicts)\n",
    "\n",
    "val_dicts = df_val[categorical + numerical].to_dict(orient='records')\n",
    "X_val = dv.transform(val_dicts)"
   ]
  },
  {
   "cell_type": "code",
   "execution_count": 17,
   "id": "1e9fb68b",
   "metadata": {},
   "outputs": [],
   "source": [
    "target = 'duration'\n",
    "y_train = df_train[target].values\n",
    "y_val = df_val[target].values"
   ]
  },
  {
   "cell_type": "code",
   "execution_count": 18,
   "id": "429e2394",
   "metadata": {},
   "outputs": [
    {
     "data": {
      "text/plain": [
       "7.75871520559622"
      ]
     },
     "execution_count": 18,
     "metadata": {},
     "output_type": "execute_result"
    }
   ],
   "source": [
    "lr = LinearRegression()\n",
    "lr.fit(X_train, y_train)\n",
    "\n",
    "y_pred = lr.predict(X_val)\n",
    "\n",
    "mean_squared_error(y_val, y_pred, squared=False)"
   ]
  },
  {
   "cell_type": "code",
   "execution_count": 19,
   "id": "22bf6f8b",
   "metadata": {},
   "outputs": [],
   "source": [
    "with open('models/lin_reg.bin', 'wb') as f_out:\n",
    "    pickle.dump((dv, lr), f_out)"
   ]
  },
  {
   "cell_type": "code",
   "execution_count": 20,
   "id": "a4999b94",
   "metadata": {},
   "outputs": [],
   "source": [
    "# Save the model as an artifact\n",
    "\n",
    "with mlflow.start_run():\n",
    "    mlflow.set_tag(\"developer\",\"Andrew\")\n",
    "    mlflow.log_param(\"train-data-path\",\"./data/2021/green_tripdata_2021-01.parquet\")\n",
    "    mlflow.log_param(\"valid-data-path\",\"./data/2021/green_tripdata_2021-02.parquet\")\n",
    "    lr = Lasso(0.01)\n",
    "    lr.fit(X_train, y_train)\n",
    "\n",
    "    y_pred = lr.predict(X_val)\n",
    "\n",
    "    rmse = mean_squared_error(y_val, y_pred, squared=False)\n",
    "    mlflow.log_metric(\"rmse\",rmse )\n",
    "    mlflow.log_artifact(local_path=\"models/lin_reg.bin\",artifact_path=\"models_pickle\")\n"
   ]
  },
  {
   "cell_type": "markdown",
   "id": "054e6cb5",
   "metadata": {},
   "source": [
    "### Setting up hyperparameter tunning tracking with MLFlow"
   ]
  },
  {
   "cell_type": "code",
   "execution_count": 21,
   "id": "27e5f053",
   "metadata": {},
   "outputs": [],
   "source": [
    "import xgboost as xgb\n",
    "from hyperopt import fmin, tpe, hp, STATUS_OK, Trials\n",
    "from hyperopt.pyll import scope "
   ]
  },
  {
   "cell_type": "code",
   "execution_count": 22,
   "id": "da46b7b4",
   "metadata": {},
   "outputs": [],
   "source": [
    "def objective(params):\n",
    "    with mlflow.start_run():\n",
    "        mlflow.set_tag(\"Model\",\"xgboost\")\n",
    "        mlflow.log_params(params)\n",
    "        booster = xgb.train(\n",
    "            params=params,\n",
    "            dtrain =train,\n",
    "            num_boost_round=1000,\n",
    "            evals=[(valid,\"validation\")],\n",
    "            early_stopping_rounds=50\n",
    "        )\n",
    "        y_pred = booster.predict(valid)\n",
    "        rmse = mean_squared_error(y_val,y_pred,squared=False)\n",
    "        mlflow.log_metric(\"rmse\",rmse)\n",
    "    return{'loss':rmse,'status':STATUS_OK} # SIGNAL FOR SUCCESSFUL OPTIMIZATION"
   ]
  },
  {
   "cell_type": "code",
   "execution_count": 23,
   "id": "f487592a",
   "metadata": {},
   "outputs": [],
   "source": [
    "train = xgb.DMatrix(X_train,label=y_train)\n",
    "valid = xgb.DMatrix(X_val,label=y_val)"
   ]
  },
  {
   "cell_type": "code",
   "execution_count": 24,
   "id": "021b0463",
   "metadata": {},
   "outputs": [],
   "source": [
    "search_space = {\n",
    "    'max_depth' : scope.int(hp.quniform('max_depth',4,100,1)),\n",
    "    'learning_rate' : hp.loguniform('learning_rate',-3,0), # exp(-3) and exp(0)\n",
    "    'reg_alpha' : hp.loguniform('reg_alpha',-5,-1), \n",
    "    'reg_lambda' : hp.loguniform('reg_lambda',-6,-1),\n",
    "    'min_child_weight': hp.loguniform('min_child_weight',-1,3),\n",
    "    'objective' : 'reg:linear',\n",
    "    'seed' : 42, # Assign SEED\n",
    "    #'tree_method' : 'gpu_hist' # Optional : use GPU\n",
    "\n",
    "}\n",
    "\n",
    "\n",
    "## Create a best_result variable\n",
    "\n",
    "\n",
    "#best_result = fmin(\n",
    "#    fn=objective,\n",
    "#    space=search_space,\n",
    "#    algo=tpe.suggest,\n",
    "#    max_evals=50,\n",
    "#    trials=Trials()\n",
    "#)\n"
   ]
  },
  {
   "cell_type": "markdown",
   "id": "66b6831d",
   "metadata": {},
   "source": [
    "Where `hp.log_uniform` returns a value according to `exp(uniform(low,high))` So the return is uniformly distributed."
   ]
  },
  {
   "cell_type": "markdown",
   "id": "d8169c0e",
   "metadata": {},
   "source": [
    "### Training an Xgboost model with the best params obtained by Mlflow"
   ]
  },
  {
   "cell_type": "code",
   "execution_count": 25,
   "id": "95d6bb01",
   "metadata": {},
   "outputs": [],
   "source": [
    "\n",
    "best_params = {\n",
    "    'learning_rate': 0.09585355369315604,\n",
    "    'max_depth': 30,\n",
    "    'min_child_weight': 1.060597050922164,\n",
    "    'objective': 'reg:linear',\n",
    "    'reg_alpha': 0.018060244040060163,\n",
    "    'reg_lambda': 0.011658731377413597,\n",
    "    'seed': 42\n",
    "}\n",
    "\n",
    "mlflow.xgboost.autolog()\n",
    "\n",
    "#booster = xgb.train(\n",
    "#    params=best_params,\n",
    "#    dtrain =train,\n",
    "#    num_boost_round=1000,\n",
    "#    evals=[(valid,\"validation\")],\n",
    "#    early_stopping_rounds=50\n",
    "#)"
   ]
  },
  {
   "cell_type": "markdown",
   "id": "948fa360",
   "metadata": {},
   "source": [
    "#### 2.4 Model Management "
   ]
  },
  {
   "cell_type": "markdown",
   "id": "2ccbb100",
   "metadata": {},
   "source": [
    "Experiment tracking is the process of saving all experiment related information that you care about for every experiment you run.   \n",
    "\n"
   ]
  },
  {
   "cell_type": "markdown",
   "id": "a1a1833d",
   "metadata": {},
   "source": [
    "![alt](https://i0.wp.com/neptune.ai/wp-content/uploads/MLOps_cycle.jpg?resize=1024%2C576&ssl=1)"
   ]
  },
  {
   "cell_type": "markdown",
   "id": "4b4c6610",
   "metadata": {},
   "source": [
    "**Problems** with tradicional approach:\n",
    "- Error Prone : Files and directories are manually created (For many models it's even more confusing)\n",
    "- No versioning \n",
    "- No model lineage : We don't know what hyper-parameters where used."
   ]
  },
  {
   "cell_type": "markdown",
   "id": "00ec6fc0",
   "metadata": {},
   "source": [
    "### 2.5 Model Registry\n",
    "\n"
   ]
  },
  {
   "cell_type": "markdown",
   "id": "e8e0cf89",
   "metadata": {},
   "source": [
    "### Motivation\n",
    "- Tracking changes , registry models with MLFlow\n",
    "- Wondering what has changed ?\n",
    "- Improving communication.\n",
    "- Only list what models are production Ready\n",
    "- Add CI/CD Code.\n",
    "\n",
    "\n",
    "\n",
    "\n"
   ]
  },
  {
   "cell_type": "code",
   "execution_count": null,
   "id": "59fdaff7",
   "metadata": {},
   "outputs": [],
   "source": []
  },
  {
   "cell_type": "code",
   "execution_count": null,
   "id": "5606e0fd",
   "metadata": {},
   "outputs": [],
   "source": []
  }
 ],
 "metadata": {
  "interpreter": {
   "hash": "d0ffba18ed10f9a8e94a18140f2784fc38d840ff05246856d09cbb34c749f224"
  },
  "kernelspec": {
   "display_name": "Python 3 (ipykernel)",
   "language": "python",
   "name": "python3"
  },
  "language_info": {
   "codemirror_mode": {
    "name": "ipython",
    "version": 3
   },
   "file_extension": ".py",
   "mimetype": "text/x-python",
   "name": "python",
   "nbconvert_exporter": "python",
   "pygments_lexer": "ipython3",
   "version": "3.9.7"
  }
 },
 "nbformat": 4,
 "nbformat_minor": 5
}
