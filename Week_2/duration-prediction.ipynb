{
 "cells": [
  {
   "cell_type": "code",
   "execution_count": 1,
   "id": "b2bd82d7",
   "metadata": {},
   "outputs": [
    {
     "name": "stdout",
     "output_type": "stream",
     "text": [
<<<<<<< HEAD
      "Python 3.9.12\n"
=======
      "Python 3.9.7\n"
>>>>>>> 7382377 (clean)
     ]
    }
   ],
   "source": [
    "!python -V"
   ]
  },
  {
   "cell_type": "code",
   "execution_count": 2,
   "id": "41062d8a",
   "metadata": {},
   "outputs": [],
   "source": [
    "import pandas as pd"
   ]
  },
  {
   "cell_type": "code",
   "execution_count": 3,
   "id": "c984c564",
   "metadata": {},
   "outputs": [],
   "source": [
    "import pickle"
   ]
  },
  {
   "cell_type": "code",
   "execution_count": 4,
   "id": "4add538c",
   "metadata": {},
   "outputs": [],
   "source": [
    "import seaborn as sns\n",
    "import matplotlib.pyplot as plt"
   ]
  },
  {
   "cell_type": "code",
   "execution_count": 5,
   "id": "8b135c2b",
   "metadata": {},
   "outputs": [],
   "source": [
    "from sklearn.feature_extraction import DictVectorizer\n",
    "from sklearn.linear_model import LinearRegression\n",
    "from sklearn.linear_model import Lasso\n",
    "from sklearn.linear_model import Ridge\n",
    "\n",
    "from sklearn.metrics import mean_squared_error"
   ]
  },
  {
   "cell_type": "code",
   "execution_count": 6,
   "id": "b20c01ac",
   "metadata": {},
   "outputs": [
    {
     "data": {
      "text/plain": [
       "<Experiment: artifact_location='./mlruns/1', experiment_id='1', lifecycle_stage='active', name='nyctaxi_experiments', tags={}>"
      ]
     },
     "execution_count": 6,
     "metadata": {},
     "output_type": "execute_result"
    }
   ],
   "source": [
    "import mlflow\n",
    "\n",
    "mlflow.set_tracking_uri(\"sqlite:///mlflow.db\")\n",
    "mlflow.set_experiment(\"nyctaxi_experiments\")\n"
   ]
  },
  {
   "cell_type": "code",
<<<<<<< HEAD
   "execution_count": 7,
=======
   "execution_count": 2,
>>>>>>> 7382377 (clean)
   "id": "14d3eb75",
   "metadata": {},
   "outputs": [
    {
     "name": "stderr",
     "output_type": "stream",
     "text": [
<<<<<<< HEAD
      "--2022-06-04 23:33:35--  https://s3.amazonaws.com/nyc-tlc/trip+data/green_tripdata_2021-01.parquet\n",
      "Resolving s3.amazonaws.com... 52.217.69.126\n",
      "Connecting to s3.amazonaws.com|52.217.69.126|:443... connected.\n",
=======
      "--2022-06-24 01:04:47--  https://s3.amazonaws.com/nyc-tlc/trip+data/green_tripdata_2021-01.parquet\n",
      "Resolving s3.amazonaws.com... 52.217.165.64\n",
      "Connecting to s3.amazonaws.com|52.217.165.64|:443... connected.\n",
>>>>>>> 7382377 (clean)
      "HTTP request sent, awaiting response... 200 OK\n",
      "Length: 1333519 (1.3M) [binary/octet-stream]\n",
      "Saving to: './data/2021/green_tripdata_2021-01.parquet'\n",
      "\n",
<<<<<<< HEAD
      "     0K .......... .......... .......... .......... ..........  3%  590K 2s\n",
      "    50K .......... .......... .......... .......... ..........  7%  603K 2s\n",
      "   100K .......... .......... .......... .......... .......... 11%  617K 2s\n",
      "   150K .......... .......... .......... .......... .......... 15% 9.52M 1s\n",
      "   200K .......... .......... .......... .......... .......... 19%  675K 1s\n",
      "   250K .......... .......... .......... .......... .......... 23% 11.2M 1s\n",
      "   300K .......... .......... .......... .......... .......... 26% 9.41M 1s\n",
      "   350K .......... .......... .......... .......... .......... 30% 9.46M 1s\n",
      "   400K .......... .......... .......... .......... .......... 34% 9.49M 1s\n",
      "   450K .......... .......... .......... .......... .......... 38% 9.45M 1s\n",
      "   500K .......... .......... .......... .......... .......... 42%  833K 1s\n",
      "   550K .......... .......... .......... .......... .......... 46% 5.68M 0s\n",
      "   600K .......... .......... .......... .......... .......... 49% 6.85M 0s\n",
      "   650K .......... .......... .......... .......... .......... 53% 5.36M 0s\n",
      "   700K .......... .......... .......... .......... .......... 57% 6.69M 0s\n",
      "   750K .......... .......... .......... .......... .......... 61% 9.44M 0s\n",
      "   800K .......... .......... .......... .......... .......... 65% 8.58M 0s\n",
      "   850K .......... .......... .......... .......... .......... 69% 7.82M 0s\n",
      "   900K .......... .......... .......... .......... .......... 72% 7.90M 0s\n",
      "   950K .......... .......... .......... .......... .......... 76% 7.91M 0s\n",
      "  1000K .......... .......... .......... .......... .......... 80% 9.51M 0s\n",
      "  1050K .......... .......... .......... .......... .......... 84% 2.43M 0s\n",
      "  1100K .......... .......... .......... .......... .......... 88% 9.43M 0s\n",
      "  1150K .......... .......... .......... .......... .......... 92% 7.94M 0s\n",
      "  1200K .......... .......... .......... .......... .......... 95% 5.66M 0s\n",
      "  1250K .......... .......... .......... .......... .......... 99% 5.43M 0s\n",
      "  1300K ..                                                    100% 35.0M=0.5s\n",
      "\n",
      "2022-06-04 23:33:36 (2.41 MB/s) - './data/2021/green_tripdata_2021-01.parquet' saved [1333519/1333519]\n",
      "\n",
      "--2022-06-04 23:33:36--  https://s3.amazonaws.com/nyc-tlc/trip+data/green_tripdata_2021-02.parquet\n",
      "Resolving s3.amazonaws.com... 52.217.69.126\n",
      "Connecting to s3.amazonaws.com|52.217.69.126|:443... connected.\n",
=======
      "     0K .......... .......... .......... .......... ..........  3%  318K 4s\n",
      "    50K .......... .......... .......... .......... ..........  7% 42.6M 2s\n",
      "   100K .......... .......... .......... .......... .......... 11%  645K 2s\n",
      "   150K .......... .......... .......... .......... .......... 15% 23.3M 1s\n",
      "   200K .......... .......... .......... .......... .......... 19% 18.9M 1s\n",
      "   250K .......... .......... .......... .......... .......... 23%  680K 1s\n",
      "   300K .......... .......... .......... .......... .......... 26% 19.4M 1s\n",
      "   350K .......... .......... .......... .......... .......... 30% 18.8M 1s\n",
      "   400K .......... .......... .......... .......... .......... 34% 18.4M 1s\n",
      "   450K .......... .......... .......... .......... .......... 38% 18.9M 1s\n",
      "   500K .......... .......... .......... .......... .......... 42% 19.3M 0s\n",
      "   550K .......... .......... .......... .......... .......... 46%  760K 0s\n",
      "   600K .......... .......... .......... .......... .......... 49% 18.9M 0s\n",
      "   650K .......... .......... .......... .......... .......... 53% 18.9M 0s\n",
      "   700K .......... .......... .......... .......... .......... 57% 18.8M 0s\n",
      "   750K .......... .......... .......... .......... .......... 61% 19.0M 0s\n",
      "   800K .......... .......... .......... .......... .......... 65% 18.4M 0s\n",
      "   850K .......... .......... .......... .......... .......... 69% 18.8M 0s\n",
      "   900K .......... .......... .......... .......... .......... 72% 26.4M 0s\n",
      "   950K .......... .......... .......... .......... .......... 76% 19.2M 0s\n",
      "  1000K .......... .......... .......... .......... .......... 80% 18.8M 0s\n",
      "  1050K .......... .......... .......... .......... .......... 84% 18.9M 0s\n",
      "  1100K .......... .......... .......... .......... .......... 88% 18.5M 0s\n",
      "  1150K .......... .......... .......... .......... .......... 92%  985K 0s\n",
      "  1200K .......... .......... .......... .......... .......... 95% 20.8M 0s\n",
      "  1250K .......... .......... .......... .......... .......... 99% 20.8M 0s\n",
      "  1300K ..                                                    100% 4.22T=0.5s\n",
      "\n",
      "2022-06-24 01:04:48 (2.67 MB/s) - './data/2021/green_tripdata_2021-01.parquet' saved [1333519/1333519]\n",
      "\n",
      "--2022-06-24 01:04:48--  https://s3.amazonaws.com/nyc-tlc/trip+data/green_tripdata_2021-02.parquet\n",
      "Resolving s3.amazonaws.com... 52.217.165.64\n",
      "Connecting to s3.amazonaws.com|52.217.165.64|:443... connected.\n",
>>>>>>> 7382377 (clean)
      "HTTP request sent, awaiting response... 200 OK\n",
      "Length: 1145679 (1.1M) [binary/octet-stream]\n",
      "Saving to: './data/2021/green_tripdata_2021-02.parquet'\n",
      "\n",
<<<<<<< HEAD
      "     0K .......... .......... .......... .......... ..........  4%  319K 3s\n",
      "    50K .......... .......... .......... .......... ..........  8% 13.8M 2s\n",
      "   100K .......... .......... .......... .......... .......... 13%  648K 2s\n",
      "   150K .......... .......... .......... .......... .......... 17% 9.45M 1s\n",
      "   200K .......... .......... .......... .......... .......... 22% 9.45M 1s\n",
      "   250K .......... .......... .......... .......... .......... 26%  720K 1s\n",
      "   300K .......... .......... .......... .......... .......... 31% 9.17M 1s\n",
      "   350K .......... .......... .......... .......... .......... 35% 9.46M 1s\n",
      "   400K .......... .......... .......... .......... .......... 40% 9.43M 0s\n",
      "   450K .......... .......... .......... .......... .......... 44% 9.45M 0s\n",
      "   500K .......... .......... .......... .......... .......... 49%  907K 0s\n",
      "   550K .......... .......... .......... .......... .......... 53% 9.43M 0s\n",
      "   600K .......... .......... .......... .......... .......... 58% 9.44M 0s\n",
      "   650K .......... .......... .......... .......... .......... 62% 9.44M 0s\n",
      "   700K .......... .......... .......... .......... .......... 67% 9.45M 0s\n",
      "   750K .......... .......... .......... .......... .......... 71% 9.44M 0s\n",
      "   800K .......... .......... .......... .......... .......... 75% 9.19M 0s\n",
      "   850K .......... .......... .......... .......... .......... 80% 9.45M 0s\n",
      "   900K .......... .......... .......... .......... .......... 84% 14.0M 0s\n",
      "   950K .......... .......... .......... .......... .......... 89% 9.39M 0s\n",
      "  1000K .......... .......... .......... .......... .......... 93% 9.46M 0s\n",
      "  1050K .......... .......... .......... .......... .......... 98% 1.79M 0s\n",
      "  1100K .......... ........                                   100% 16.7M=0.5s\n",
      "\n",
      "2022-06-04 23:33:37 (2.32 MB/s) - './data/2021/green_tripdata_2021-02.parquet' saved [1145679/1145679]\n",
=======
      "     0K .......... .......... .......... .......... ..........  4%  618K 2s\n",
      "    50K .......... .......... .......... .......... ..........  8%  619K 2s\n",
      "   100K .......... .......... .......... .......... .......... 13%  630K 2s\n",
      "   150K .......... .......... .......... .......... .......... 17% 20.0M 1s\n",
      "   200K .......... .......... .......... .......... .......... 22% 18.9M 1s\n",
      "   250K .......... .......... .......... .......... .......... 26%  662K 1s\n",
      "   300K .......... .......... .......... .......... .......... 31% 24.6M 1s\n",
      "   350K .......... .......... .......... .......... .......... 35% 18.8M 1s\n",
      "   400K .......... .......... .......... .......... .......... 40% 18.9M 0s\n",
      "   450K .......... .......... .......... .......... .......... 44% 19.4M 0s\n",
      "   500K .......... .......... .......... .......... .......... 49% 18.7M 0s\n",
      "   550K .......... .......... .......... .......... .......... 53%  755K 0s\n",
      "   600K .......... .......... .......... .......... .......... 58% 15.9M 0s\n",
      "   650K .......... .......... .......... .......... .......... 62% 18.2M 0s\n",
      "   700K .......... .......... .......... .......... .......... 67% 18.8M 0s\n",
      "   750K .......... .......... .......... .......... .......... 71% 18.9M 0s\n",
      "   800K .......... .......... .......... .......... .......... 75% 18.9M 0s\n",
      "   850K .......... .......... .......... .......... .......... 80% 24.0M 0s\n",
      "   900K .......... .......... .......... .......... .......... 84% 20.0M 0s\n",
      "   950K .......... .......... .......... .......... .......... 89% 19.2M 0s\n",
      "  1000K .......... .......... .......... .......... .......... 93% 18.9M 0s\n",
      "  1050K .......... .......... .......... .......... .......... 98% 19.7M 0s\n",
      "  1100K .......... ........                                   100% 22.2M=0.4s\n",
      "\n",
      "2022-06-24 01:04:49 (2.56 MB/s) - './data/2021/green_tripdata_2021-02.parquet' saved [1145679/1145679]\n",
      "\n",
      "--2022-06-24 01:04:49--  https://s3.amazonaws.com/nyc-tlc/trip+data/green_tripdata_2021-03.parquet\n",
      "Resolving s3.amazonaws.com... 52.216.65.91\n",
      "Connecting to s3.amazonaws.com|52.216.65.91|:443... connected.\n",
      "HTTP request sent, awaiting response... 200 OK\n",
      "Length: 1474538 (1.4M) [binary/octet-stream]\n",
      "Saving to: './data/2021/green_tripdata_2021-03.parquet'\n",
      "\n",
      "     0K .......... .......... .......... .......... ..........  3%  611K 2s\n",
      "    50K .......... .......... .......... .......... ..........  6%  614K 2s\n",
      "   100K .......... .......... .......... .......... .......... 10%  622K 2s\n",
      "   150K .......... .......... .......... .......... .......... 13% 19.5M 2s\n",
      "   200K .......... .......... .......... .......... .......... 17% 1.23M 1s\n",
      "   250K .......... .......... .......... .......... .......... 20% 1.25M 1s\n",
      "   300K .......... .......... .......... .......... .......... 24% 18.8M 1s\n",
      "   350K .......... .......... .......... .......... .......... 27% 19.0M 1s\n",
      "   400K .......... .......... .......... .......... .......... 31% 18.9M 1s\n",
      "   450K .......... .......... .......... .......... .......... 34% 18.7M 1s\n",
      "   500K .......... .......... .......... .......... .......... 38%  719K 1s\n",
      "   550K .......... .......... .......... .......... .......... 41% 18.9M 1s\n",
      "   600K .......... .......... .......... .......... .......... 45% 18.9M 0s\n",
      "   650K .......... .......... .......... .......... .......... 48% 18.8M 0s\n",
      "   700K .......... .......... .......... .......... .......... 52% 18.9M 0s\n",
      "   750K .......... .......... .......... .......... .......... 55% 18.8M 0s\n",
      "   800K .......... .......... .......... .......... .......... 59% 19.0M 0s\n",
      "   850K .......... .......... .......... .......... .......... 62% 27.0M 0s\n",
      "   900K .......... .......... .......... .......... .......... 65% 19.2M 0s\n",
      "   950K .......... .......... .......... .......... .......... 69% 18.8M 0s\n",
      "  1000K .......... .......... .......... .......... .......... 72% 2.44M 0s\n",
      "  1050K .......... .......... .......... .......... .......... 76% 1.27M 0s\n",
      "  1100K .......... .......... .......... .......... .......... 79% 18.2M 0s\n",
      "  1150K .......... .......... .......... .......... .......... 83% 18.6M 0s\n",
      "  1200K .......... .......... .......... .......... .......... 86% 19.2M 0s\n",
      "  1250K .......... .......... .......... .......... .......... 90% 18.9M 0s\n",
      "  1300K .......... .......... .......... .......... .......... 93% 19.4M 0s\n",
      "  1350K .......... .......... .......... .......... .......... 97% 19.0M 0s\n",
      "  1400K .......... .......... .......... .........            100% 24.4M=0.5s\n",
      "\n",
      "2022-06-24 01:04:50 (2.79 MB/s) - './data/2021/green_tripdata_2021-03.parquet' saved [1474538/1474538]\n",
>>>>>>> 7382377 (clean)
      "\n"
     ]
    }
   ],
<<<<<<< HEAD
   "source": [
    "## Load data per year\n",
    "\n",
    "import os\n",
    "from pathlib import Path\n",
    "import numpy as np\n",
    "\n",
    "dataset = \"green_tripdata\"\n",
    "year = '2021'\n",
    "myList = np.linspace(1,2,2) # From Jan to Feb\n",
    "\n",
    "Path(f'./data/{year}/').mkdir(parents=True,exist_ok=True)\n",
    "\n",
    "for a in myList:\n",
    "    os.system(f\"wget -O ./data/2021/{dataset}_{year}-0{a.astype(int)}.parquet \\\n",
    "        https://s3.amazonaws.com/nyc-tlc/trip+data/{dataset}_{year}-0{a.astype(int)}.parquet\")\n",
    "    "
   ]
=======
   "source": []
>>>>>>> 7382377 (clean)
  },
  {
   "cell_type": "code",
   "execution_count": 8,
   "id": "8e013caf",
   "metadata": {},
   "outputs": [],
   "source": [
    "df = pd.read_parquet('./data/2021/green_tripdata_2021-01.parquet')\n",
    "\n",
    "df['duration'] = df.lpep_dropoff_datetime - df.lpep_pickup_datetime\n",
    "df.duration = df.duration.apply(lambda td: td.total_seconds() / 60)\n",
    "\n",
    "df = df[(df.duration >= 1) & (df.duration <= 60)]\n",
    "\n",
    "categorical = ['PULocationID', 'DOLocationID']\n",
    "numerical = ['trip_distance']\n",
    "\n",
    "df[categorical] = df[categorical].astype(str)"
   ]
  },
  {
   "cell_type": "code",
   "execution_count": 9,
   "id": "116ff0cc",
   "metadata": {},
   "outputs": [
    {
     "data": {
      "text/plain": [
       "9.838799799829435"
      ]
     },
     "execution_count": 9,
     "metadata": {},
     "output_type": "execute_result"
    }
   ],
   "source": [
    "train_dicts = df[categorical + numerical].to_dict(orient='records')\n",
    "\n",
    "dv = DictVectorizer()\n",
    "X_train = dv.fit_transform(train_dicts)\n",
    "\n",
    "target = 'duration'\n",
    "y_train = df[target].values\n",
    "\n",
    "lr = LinearRegression()\n",
    "lr.fit(X_train, y_train)\n",
    "\n",
    "y_pred = lr.predict(X_train)\n",
    "\n",
    "mean_squared_error(y_train, y_pred, squared=False)"
   ]
  },
  {
   "cell_type": "code",
   "execution_count": 10,
<<<<<<< HEAD
=======
   "id": "8b88d6f3",
   "metadata": {},
   "outputs": [],
   "source": [
    "plt.style.use(\"ggplot\")"
   ]
  },
  {
   "cell_type": "code",
   "execution_count": 11,
>>>>>>> 7382377 (clean)
   "id": "b134c97b",
   "metadata": {},
   "outputs": [
    {
     "name": "stderr",
     "output_type": "stream",
     "text": [
      "/home/elegant00/miniconda3/envs/Ml_Ops/lib/python3.9/site-packages/seaborn/distributions.py:2619: FutureWarning: `distplot` is a deprecated function and will be removed in a future version. Please adapt your code to use either `displot` (a figure-level function with similar flexibility) or `histplot` (an axes-level function for histograms).\n",
      "  warnings.warn(msg, FutureWarning)\n",
      "/home/elegant00/miniconda3/envs/Ml_Ops/lib/python3.9/site-packages/seaborn/distributions.py:2619: FutureWarning: `distplot` is a deprecated function and will be removed in a future version. Please adapt your code to use either `displot` (a figure-level function with similar flexibility) or `histplot` (an axes-level function for histograms).\n",
      "  warnings.warn(msg, FutureWarning)\n"
     ]
    },
    {
     "data": {
<<<<<<< HEAD
      "image/png": "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",
=======
      "image/png": "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",
>>>>>>> 7382377 (clean)
      "text/plain": [
       "<Figure size 432x288 with 1 Axes>"
      ]
     },
     "metadata": {
      "needs_background": "light"
     },
     "output_type": "display_data"
    }
   ],
   "source": [
    "sns.distplot(y_pred, label='prediction')\n",
    "sns.distplot(y_train, label='actual')\n",
    "\n",
    "plt.legend();"
   ]
  },
  {
   "cell_type": "code",
<<<<<<< HEAD
   "execution_count": 11,
=======
   "execution_count": 12,
>>>>>>> 7382377 (clean)
   "id": "f9e6479e",
   "metadata": {},
   "outputs": [],
   "source": [
    "def read_dataframe(filename):\n",
    "    if filename.endswith('.csv'):\n",
    "        df = pd.read_csv(filename)\n",
<<<<<<< HEAD
    "\n",
=======
    "    \n",
>>>>>>> 7382377 (clean)
    "        df.lpep_dropoff_datetime = pd.to_datetime(df.lpep_dropoff_datetime)\n",
    "        df.lpep_pickup_datetime = pd.to_datetime(df.lpep_pickup_datetime)\n",
    "    elif filename.endswith('.parquet'):\n",
    "        df = pd.read_parquet(filename)\n",
    "\n",
    "    df['duration'] = df.lpep_dropoff_datetime - df.lpep_pickup_datetime\n",
    "    df.duration = df.duration.apply(lambda td: td.total_seconds() / 60)\n",
    "\n",
    "    df = df[(df.duration >= 1) & (df.duration <= 60)]\n",
    "\n",
    "    categorical = ['PULocationID', 'DOLocationID']\n",
    "    df[categorical] = df[categorical].astype(str)\n",
    "    \n",
    "    return df"
   ]
  },
  {
   "cell_type": "code",
<<<<<<< HEAD
   "execution_count": 12,
=======
   "execution_count": 13,
>>>>>>> 7382377 (clean)
   "id": "8029eba0",
   "metadata": {},
   "outputs": [],
   "source": [
    "df_train = read_dataframe('./data/2021/green_tripdata_2021-01.parquet')\n",
    "df_val = read_dataframe('./data/2021/green_tripdata_2021-02.parquet')"
   ]
  },
  {
   "cell_type": "code",
<<<<<<< HEAD
   "execution_count": 13,
=======
   "execution_count": 14,
>>>>>>> 7382377 (clean)
   "id": "f6f2f0eb",
   "metadata": {},
   "outputs": [
    {
     "data": {
      "text/plain": [
       "(73908, 61921)"
      ]
     },
<<<<<<< HEAD
     "execution_count": 13,
=======
     "execution_count": 14,
>>>>>>> 7382377 (clean)
     "metadata": {},
     "output_type": "execute_result"
    }
   ],
   "source": [
    "len(df_train), len(df_val)"
   ]
  },
  {
   "cell_type": "code",
<<<<<<< HEAD
   "execution_count": 14,
=======
   "execution_count": 15,
>>>>>>> 7382377 (clean)
   "id": "951d51ef",
   "metadata": {},
   "outputs": [],
   "source": [
    "df_train['PU_DO'] = df_train['PULocationID'] + '_' + df_train['DOLocationID']\n",
    "df_val['PU_DO'] = df_val['PULocationID'] + '_' + df_val['DOLocationID']"
   ]
  },
  {
   "cell_type": "code",
<<<<<<< HEAD
   "execution_count": 15,
=======
   "execution_count": 16,
>>>>>>> 7382377 (clean)
   "id": "c5cbfc25",
   "metadata": {},
   "outputs": [],
   "source": [
    "categorical = ['PU_DO'] #'PULocationID', 'DOLocationID']\n",
    "numerical = ['trip_distance']\n",
    "\n",
    "dv = DictVectorizer()\n",
    "\n",
    "train_dicts = df_train[categorical + numerical].to_dict(orient='records')\n",
    "X_train = dv.fit_transform(train_dicts)\n",
    "\n",
    "val_dicts = df_val[categorical + numerical].to_dict(orient='records')\n",
    "X_val = dv.transform(val_dicts)"
   ]
  },
  {
   "cell_type": "code",
<<<<<<< HEAD
   "execution_count": 16,
=======
   "execution_count": 17,
>>>>>>> 7382377 (clean)
   "id": "1e9fb68b",
   "metadata": {},
   "outputs": [],
   "source": [
    "target = 'duration'\n",
    "y_train = df_train[target].values\n",
    "y_val = df_val[target].values"
   ]
  },
  {
   "cell_type": "code",
<<<<<<< HEAD
   "execution_count": 17,
=======
   "execution_count": 18,
>>>>>>> 7382377 (clean)
   "id": "429e2394",
   "metadata": {},
   "outputs": [
    {
     "data": {
      "text/plain": [
       "7.75871520559622"
      ]
     },
<<<<<<< HEAD
     "execution_count": 17,
=======
     "execution_count": 18,
>>>>>>> 7382377 (clean)
     "metadata": {},
     "output_type": "execute_result"
    }
   ],
   "source": [
    "lr = LinearRegression()\n",
    "lr.fit(X_train, y_train)\n",
    "\n",
    "y_pred = lr.predict(X_val)\n",
    "\n",
    "mean_squared_error(y_val, y_pred, squared=False)"
   ]
  },
  {
   "cell_type": "code",
   "execution_count": 19,
   "id": "22bf6f8b",
   "metadata": {},
   "outputs": [],
   "source": [
    "with open('models/lin_reg.bin', 'wb') as f_out:\n",
    "    pickle.dump((dv, lr), f_out)"
   ]
  },
  {
   "cell_type": "code",
   "execution_count": 20,
   "id": "a4999b94",
   "metadata": {},
   "outputs": [],
   "source": [
    "# Save the model as an artifact\n",
    "\n",
    "with mlflow.start_run():\n",
    "    mlflow.set_tag(\"developer\",\"Andrew\")\n",
    "    mlflow.log_param(\"train-data-path\",\"./data/2021/green_tripdata_2021-01.parquet\")\n",
    "    mlflow.log_param(\"valid-data-path\",\"./data/2021/green_tripdata_2021-02.parquet\")\n",
    "    lr = Lasso(0.01)\n",
    "    lr.fit(X_train, y_train)\n",
    "\n",
    "    y_pred = lr.predict(X_val)\n",
    "\n",
    "    rmse = mean_squared_error(y_val, y_pred, squared=False)\n",
    "    mlflow.log_metric(\"rmse\",rmse )\n",
    "    mlflow.log_artifact(local_path=\"models/lin_reg.bin\",artifact_path=\"models_pickle\")\n"
   ]
  },
  {
   "cell_type": "markdown",
   "id": "054e6cb5",
   "metadata": {},
   "source": [
    "### Setting up hyperparameter tunning tracking with MLFlow"
   ]
  },
  {
   "cell_type": "code",
   "execution_count": 21,
   "id": "27e5f053",
   "metadata": {},
   "outputs": [],
   "source": [
    "import xgboost as xgb\n",
    "from hyperopt import fmin, tpe, hp, STATUS_OK, Trials\n",
    "from hyperopt.pyll import scope "
   ]
  },
  {
   "cell_type": "code",
   "execution_count": 22,
   "id": "da46b7b4",
   "metadata": {},
   "outputs": [],
   "source": [
    "def objective(params):\n",
    "    with mlflow.start_run():\n",
    "        mlflow.set_tag(\"Model\",\"xgboost\")\n",
    "        mlflow.log_params(params)\n",
    "        booster = xgb.train(\n",
    "            params=params,\n",
    "            dtrain =train,\n",
    "            num_boost_round=1000,\n",
    "            evals=[(valid,\"validation\")],\n",
    "            early_stopping_rounds=50\n",
    "        )\n",
    "        y_pred = booster.predict(valid)\n",
    "        rmse = mean_squared_error(y_val,y_pred,squared=False)\n",
    "        mlflow.log_metric(\"rmse\",rmse)\n",
    "    return{'loss':rmse,'status':STATUS_OK} # SIGNAL FOR SUCCESSFUL OPTIMIZATION"
   ]
  },
  {
   "cell_type": "code",
   "execution_count": 23,
   "id": "f487592a",
   "metadata": {},
   "outputs": [],
   "source": [
    "train = xgb.DMatrix(X_train,label=y_train)\n",
    "valid = xgb.DMatrix(X_val,label=y_val)"
   ]
  },
  {
   "cell_type": "code",
   "execution_count": 24,
   "id": "021b0463",
   "metadata": {},
   "outputs": [],
   "source": [
    "search_space = {\n",
    "    'max_depth' : scope.int(hp.quniform('max_depth',4,100,1)),\n",
    "    'learning_rate' : hp.loguniform('learning_rate',-3,0), # exp(-3) and exp(0)\n",
    "    'reg_alpha' : hp.loguniform('reg_alpha',-5,-1), \n",
    "    'reg_lambda' : hp.loguniform('reg_lambda',-6,-1),\n",
    "    'min_child_weight': hp.loguniform('min_child_weight',-1,3),\n",
    "    'objective' : 'reg:linear',\n",
    "    'seed' : 42, # Assign SEED\n",
    "    #'tree_method' : 'gpu_hist' # Optional : use GPU\n",
    "\n",
    "}\n",
    "\n",
    "\n",
    "## Create a best_result variable\n",
    "\n",
    "\n",
    "#best_result = fmin(\n",
    "#    fn=objective,\n",
    "#    space=search_space,\n",
    "#    algo=tpe.suggest,\n",
    "#    max_evals=50,\n",
    "#    trials=Trials()\n",
    "#)\n"
   ]
  },
  {
   "cell_type": "markdown",
   "id": "66b6831d",
   "metadata": {},
   "source": [
    "Where `hp.log_uniform` returns a value according to `exp(uniform(low,high))` So the return is uniformly distributed."
   ]
  },
  {
   "cell_type": "markdown",
   "id": "d8169c0e",
   "metadata": {},
   "source": [
    "### Training an Xgboost model with the best params obtained by Mlflow"
   ]
  },
  {
   "cell_type": "code",
   "execution_count": 25,
   "id": "95d6bb01",
   "metadata": {},
   "outputs": [],
   "source": [
    "\n",
    "best_params = {\n",
    "    'learning_rate': 0.09585355369315604,\n",
    "    'max_depth': 30,\n",
    "    'min_child_weight': 1.060597050922164,\n",
    "    'objective': 'reg:linear',\n",
    "    'reg_alpha': 0.018060244040060163,\n",
    "    'reg_lambda': 0.011658731377413597,\n",
    "    'seed': 42\n",
    "}\n",
    "\n",
    "mlflow.xgboost.autolog()\n",
    "\n",
    "#booster = xgb.train(\n",
    "#    params=best_params,\n",
    "#    dtrain =train,\n",
    "#    num_boost_round=1000,\n",
    "#    evals=[(valid,\"validation\")],\n",
    "#    early_stopping_rounds=50\n",
    "#)"
   ]
  },
  {
   "cell_type": "markdown",
   "id": "948fa360",
   "metadata": {},
   "source": [
    "#### 2.4 Model Management "
   ]
  },
  {
   "cell_type": "markdown",
   "id": "2ccbb100",
   "metadata": {},
   "source": [
    "Experiment tracking is the process of saving all experiment related information that you care about for every experiment you run.   \n",
    "\n"
   ]
  },
  {
   "cell_type": "markdown",
   "id": "a1a1833d",
   "metadata": {},
   "source": [
    "![alt](https://i0.wp.com/neptune.ai/wp-content/uploads/MLOps_cycle.jpg?resize=1024%2C576&ssl=1)"
   ]
  },
  {
   "cell_type": "markdown",
   "id": "4b4c6610",
   "metadata": {},
   "source": [
    "**Problems** with tradicional approach:\n",
    "- Error Prone : Files and directories are manually created (For many models it's even more confusing)\n",
    "- No versioning \n",
    "- No model lineage : We don't know what hyper-parameters where used."
   ]
  },
  {
   "cell_type": "markdown",
   "id": "00ec6fc0",
   "metadata": {},
   "source": [
    "### 2.5 Model Registry\n",
    "\n"
   ]
  },
  {
   "cell_type": "markdown",
   "id": "e8e0cf89",
   "metadata": {},
   "source": [
    "### Motivation\n",
    "- Tracking changes , registry models with MLFlow\n",
    "- Wondering what has changed ?\n",
    "- Improving communication.\n",
    "- Only list what models are production Ready\n",
    "- Add CI/CD Code.\n",
    "\n",
    "\n",
    "\n",
    "\n"
   ]
  },
  {
   "cell_type": "code",
   "execution_count": null,
   "id": "59fdaff7",
   "metadata": {},
   "outputs": [],
   "source": []
  },
  {
   "cell_type": "code",
   "execution_count": null,
   "id": "5606e0fd",
   "metadata": {},
   "outputs": [],
   "source": []
  }
 ],
 "metadata": {
  "interpreter": {
   "hash": "d0ffba18ed10f9a8e94a18140f2784fc38d840ff05246856d09cbb34c749f224"
  },
  "kernelspec": {
   "display_name": "Python 3 (ipykernel)",
   "language": "python",
   "name": "python3"
  },
  "language_info": {
   "codemirror_mode": {
    "name": "ipython",
    "version": 3
   },
   "file_extension": ".py",
   "mimetype": "text/x-python",
   "name": "python",
   "nbconvert_exporter": "python",
   "pygments_lexer": "ipython3",
   "version": "3.9.7"
  }
 },
 "nbformat": 4,
 "nbformat_minor": 5
}
