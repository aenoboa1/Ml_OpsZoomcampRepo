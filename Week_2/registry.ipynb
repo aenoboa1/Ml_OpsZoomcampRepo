{
 "cells": [
  {
   "cell_type": "markdown",
   "metadata": {},
   "source": [
    "# Model Registry "
   ]
  },
  {
   "cell_type": "code",
   "execution_count": 23,
   "metadata": {},
   "outputs": [],
   "source": [
    "from mlflow.tracking import MlflowClient\n",
    "\n",
    "ML_FLOW_TRACKING_URI = \"sqlite:///mlflow.db\"\n",
    "\n",
    "client = MlflowClient(tracking_uri=ML_FLOW_TRACKING_URI)"
   ]
  },
  {
   "cell_type": "code",
   "execution_count": 24,
   "metadata": {},
   "outputs": [
    {
     "data": {
      "text/plain": [
       "[<Experiment: artifact_location='./mlruns/0', experiment_id='0', lifecycle_stage='active', name='Default', tags={}>,\n",
       " <Experiment: artifact_location='./mlruns/1', experiment_id='1', lifecycle_stage='active', name='nyctaxi_experiments', tags={}>,\n",
       " <Experiment: artifact_location='./mlruns/2', experiment_id='2', lifecycle_stage='active', name='my_new_experiment', tags={}>]"
      ]
     },
     "execution_count": 24,
     "metadata": {},
     "output_type": "execute_result"
    }
   ],
   "source": [
    "client.list_experiments()"
   ]
  },
  {
   "cell_type": "code",
   "execution_count": null,
   "metadata": {},
   "outputs": [],
   "source": [
    "client.create_experiment(name=\"my_new_experiment\")"
   ]
  },
  {
   "cell_type": "code",
   "execution_count": 27,
   "metadata": {},
   "outputs": [],
   "source": [
    "from mlflow.entities import ViewType\n",
    "\n",
    "runs = client.search_runs(\n",
    "    experiment_ids='1',\n",
    "    filter_string=\"\",\n",
    "    run_view_type=ViewType.ACTIVE_ONLY,\n",
    "    max_results=5,\n",
    "    order_by=['metric.rmse ASC']\n",
    "\n",
    ")"
   ]
  },
  {
   "cell_type": "code",
   "execution_count": 28,
   "metadata": {},
   "outputs": [
    {
     "data": {
      "text/plain": [
       "[<Run: data=<RunData: metrics={'rmse': 6.303975653496241}, params={'learning_rate': '0.09585355369315604',\n",
       "  'max_depth': '30',\n",
       "  'min_child_weight': '1.060597050922164',\n",
       "  'objective': 'reg:linear',\n",
       "  'reg_alpha': '0.018060244040060163',\n",
       "  'reg_lambda': '0.011658731377413597',\n",
       "  'seed': '42'}, tags={'mlflow.log-model.history': '[{\"run_id\": \"9342aa2b9fd4498ab25bbfaadc6d599b\", '\n",
       "                              '\"artifact_path\": \"models_mlflow\", '\n",
       "                              '\"utc_time_created\": \"2022-06-24 '\n",
       "                              '22:00:38.875492\", \"flavors\": {\"python_function\": '\n",
       "                              '{\"loader_module\": \"mlflow.xgboost\", '\n",
       "                              '\"python_version\": \"3.9.7\", \"data\": \"model.xgb\", '\n",
       "                              '\"env\": \"conda.yaml\"}, \"xgboost\": {\"xgb_version\": '\n",
       "                              '\"1.6.1\", \"data\": \"model.xgb\", \"model_class\": '\n",
       "                              '\"xgboost.core.Booster\", \"code\": null}}, '\n",
       "                              '\"model_uuid\": '\n",
       "                              '\"d4c202564f0d41f18cd9f1c0e3b0ad36\", '\n",
       "                              '\"mlflow_version\": \"1.26.1\"}]',\n",
       "  'mlflow.source.name': '/home/elegant00/.local/lib/python3.9/site-packages/ipykernel_launcher.py',\n",
       "  'mlflow.source.type': 'LOCAL',\n",
       "  'mlflow.user': 'elegant00'}>, info=<RunInfo: artifact_uri='./mlruns/1/9342aa2b9fd4498ab25bbfaadc6d599b/artifacts', end_time=1656108040102, experiment_id='1', lifecycle_stage='active', run_id='9342aa2b9fd4498ab25bbfaadc6d599b', run_uuid='9342aa2b9fd4498ab25bbfaadc6d599b', start_time=1656107982143, status='FINISHED', user_id='elegant00'>>,\n",
       " <Run: data=<RunData: metrics={'rmse': 6.303975653496241}, params={'learning_rate': '0.09585355369315604',\n",
       "  'max_depth': '30',\n",
       "  'min_child_weight': '1.060597050922164',\n",
       "  'objective': 'reg:linear',\n",
       "  'reg_alpha': '0.018060244040060163',\n",
       "  'reg_lambda': '0.011658731377413597',\n",
       "  'seed': '42'}, tags={'mlflow.source.name': '/home/elegant00/.local/lib/python3.9/site-packages/ipykernel_launcher.py',\n",
       "  'mlflow.source.type': 'LOCAL',\n",
       "  'mlflow.user': 'elegant00'}>, info=<RunInfo: artifact_uri='./mlruns/1/939a3ea7078f4a3d8cf7829cf12fc414/artifacts', end_time=1656107950584, experiment_id='1', lifecycle_stage='active', run_id='939a3ea7078f4a3d8cf7829cf12fc414', run_uuid='939a3ea7078f4a3d8cf7829cf12fc414', start_time=1656107894578, status='FAILED', user_id='elegant00'>>,\n",
       " <Run: data=<RunData: metrics={'rmse': 6.303975653496241}, params={'learning_rate': '0.09585355369315604',\n",
       "  'max_depth': '30',\n",
       "  'min_child_weight': '1.060597050922164',\n",
       "  'objective': 'reg:linear',\n",
       "  'reg_alpha': '0.018060244040060163',\n",
       "  'reg_lambda': '0.011658731377413597',\n",
       "  'seed': '42'}, tags={'mlflow.source.name': '/home/elegant00/.local/lib/python3.9/site-packages/ipykernel_launcher.py',\n",
       "  'mlflow.source.type': 'LOCAL',\n",
       "  'mlflow.user': 'elegant00'}>, info=<RunInfo: artifact_uri='./mlruns/1/5c780dd850974d81b019cb8afd900368/artifacts', end_time=1656107804822, experiment_id='1', lifecycle_stage='active', run_id='5c780dd850974d81b019cb8afd900368', run_uuid='5c780dd850974d81b019cb8afd900368', start_time=1656107748877, status='FAILED', user_id='elegant00'>>,\n",
       " <Run: data=<RunData: metrics={'best_iteration': 999.0,\n",
       "  'rmse': 6.303975653496241,\n",
       "  'stopped_iteration': 999.0,\n",
       "  'validation-rmse': 6.303975650065378}, params={'learning_rate': '0.09585355369315604',\n",
       "  'max_depth': '30',\n",
       "  'min_child_weight': '1.060597050922164',\n",
       "  'objective': 'reg:linear',\n",
       "  'reg_alpha': '0.018060244040060163',\n",
       "  'reg_lambda': '0.011658731377413597',\n",
       "  'seed': '42'}, tags={'mlflow.log-model.history': '[{\"run_id\": \"be22fc89078a44468fb27185f51e1ca2\", '\n",
       "                              '\"artifact_path\": \"model\", \"utc_time_created\": '\n",
       "                              '\"2022-06-24 21:51:29.237798\", \"flavors\": '\n",
       "                              '{\"python_function\": {\"loader_module\": '\n",
       "                              '\"mlflow.xgboost\", \"python_version\": \"3.9.7\", '\n",
       "                              '\"data\": \"model.xgb\", \"env\": \"conda.yaml\"}, '\n",
       "                              '\"xgboost\": {\"xgb_version\": \"1.6.1\", \"data\": '\n",
       "                              '\"model.xgb\", \"model_class\": '\n",
       "                              '\"xgboost.core.Booster\", \"code\": null}}, '\n",
       "                              '\"model_uuid\": '\n",
       "                              '\"3be418029c4242b0bb1048a7302fb225\", '\n",
       "                              '\"mlflow_version\": \"1.26.1\", \"signature\": '\n",
       "                              '{\"inputs\": \"[{\\\\\"type\\\\\": \\\\\"tensor\\\\\", '\n",
       "                              '\\\\\"tensor-spec\\\\\": {\\\\\"dtype\\\\\": \\\\\"float64\\\\\", '\n",
       "                              '\\\\\"shape\\\\\": [-1, 13221]}}]\", \"outputs\": '\n",
       "                              '\"[{\\\\\"type\\\\\": \\\\\"tensor\\\\\", \\\\\"tensor-spec\\\\\": '\n",
       "                              '{\\\\\"dtype\\\\\": \\\\\"float32\\\\\", \\\\\"shape\\\\\": '\n",
       "                              '[-1]}}]\"}}]',\n",
       "  'mlflow.source.name': '/home/elegant00/.local/lib/python3.9/site-packages/ipykernel_launcher.py',\n",
       "  'mlflow.source.type': 'LOCAL',\n",
       "  'mlflow.user': 'elegant00'}>, info=<RunInfo: artifact_uri='./mlruns/1/be22fc89078a44468fb27185f51e1ca2/artifacts', end_time=1656107492220, experiment_id='1', lifecycle_stage='active', run_id='be22fc89078a44468fb27185f51e1ca2', run_uuid='be22fc89078a44468fb27185f51e1ca2', start_time=1656107428943, status='FAILED', user_id='elegant00'>>,\n",
       " <Run: data=<RunData: metrics={'best_iteration': 999.0,\n",
       "  'rmse': 6.303975653496241,\n",
       "  'stopped_iteration': 999.0,\n",
       "  'validation-rmse': 6.303975650065378}, params={'learning_rate': '0.09585355369315604',\n",
       "  'max_depth': '30',\n",
       "  'min_child_weight': '1.060597050922164',\n",
       "  'objective': 'reg:linear',\n",
       "  'reg_alpha': '0.018060244040060163',\n",
       "  'reg_lambda': '0.011658731377413597',\n",
       "  'seed': '42'}, tags={'mlflow.log-model.history': '[{\"run_id\": \"9f568855233540ab8b90ad42f78a9171\", '\n",
       "                              '\"artifact_path\": \"model\", \"utc_time_created\": '\n",
       "                              '\"2022-06-24 21:49:59.232616\", \"flavors\": '\n",
       "                              '{\"python_function\": {\"loader_module\": '\n",
       "                              '\"mlflow.xgboost\", \"python_version\": \"3.9.7\", '\n",
       "                              '\"data\": \"model.xgb\", \"env\": \"conda.yaml\"}, '\n",
       "                              '\"xgboost\": {\"xgb_version\": \"1.6.1\", \"data\": '\n",
       "                              '\"model.xgb\", \"model_class\": '\n",
       "                              '\"xgboost.core.Booster\", \"code\": null}}, '\n",
       "                              '\"model_uuid\": '\n",
       "                              '\"ed1ca0623da64192b334f9263a37687e\", '\n",
       "                              '\"mlflow_version\": \"1.26.1\", \"signature\": '\n",
       "                              '{\"inputs\": \"[{\\\\\"type\\\\\": \\\\\"tensor\\\\\", '\n",
       "                              '\\\\\"tensor-spec\\\\\": {\\\\\"dtype\\\\\": \\\\\"float64\\\\\", '\n",
       "                              '\\\\\"shape\\\\\": [-1, 13221]}}]\", \"outputs\": '\n",
       "                              '\"[{\\\\\"type\\\\\": \\\\\"tensor\\\\\", \\\\\"tensor-spec\\\\\": '\n",
       "                              '{\\\\\"dtype\\\\\": \\\\\"float32\\\\\", \\\\\"shape\\\\\": '\n",
       "                              '[-1]}}]\"}}]',\n",
       "  'mlflow.source.name': '/home/elegant00/.local/lib/python3.9/site-packages/ipykernel_launcher.py',\n",
       "  'mlflow.source.type': 'LOCAL',\n",
       "  'mlflow.user': 'elegant00'}>, info=<RunInfo: artifact_uri='./mlruns/1/9f568855233540ab8b90ad42f78a9171/artifacts', end_time=1656107402136, experiment_id='1', lifecycle_stage='active', run_id='9f568855233540ab8b90ad42f78a9171', run_uuid='9f568855233540ab8b90ad42f78a9171', start_time=1656107336091, status='FAILED', user_id='elegant00'>>]"
      ]
     },
     "execution_count": 28,
     "metadata": {},
     "output_type": "execute_result"
    }
   ],
   "source": [
    "runs"
   ]
  },
  {
   "cell_type": "code",
   "execution_count": 47,
   "metadata": {},
   "outputs": [
    {
     "name": "stdout",
     "output_type": "stream",
     "text": [
      "9342aa2b9fd4498ab25bbfaadc6d599b\n",
      "939a3ea7078f4a3d8cf7829cf12fc414\n",
      "5c780dd850974d81b019cb8afd900368\n",
      "be22fc89078a44468fb27185f51e1ca2\n",
      "9f568855233540ab8b90ad42f78a9171\n"
     ]
    }
   ],
   "source": [
    "for run in runs:\n",
    "    print(f\"{run.info.run_id}\")"
   ]
  },
  {
   "cell_type": "code",
   "execution_count": 48,
   "metadata": {},
   "outputs": [
    {
     "name": "stdout",
     "output_type": "stream",
     "text": [
      "run id 9342aa2b9fd4498ab25bbfaadc6d599b, rmse : 6.3040 \n",
      "run id 939a3ea7078f4a3d8cf7829cf12fc414, rmse : 6.3040 \n",
      "run id 5c780dd850974d81b019cb8afd900368, rmse : 6.3040 \n",
      "run id be22fc89078a44468fb27185f51e1ca2, rmse : 6.3040 \n",
      "run id 9f568855233540ab8b90ad42f78a9171, rmse : 6.3040 \n"
     ]
    }
   ],
   "source": [
    "for run in runs:\n",
    "    print(f\"run id {run.info.run_id}, rmse : {run.data.metrics['rmse']:.4f} \")"
   ]
  },
  {
   "cell_type": "code",
   "execution_count": 31,
   "metadata": {},
   "outputs": [],
   "source": [
    "import mlflow\n",
    "mlflow.set_tracking_uri(ML_FLOW_TRACKING_URI)"
   ]
  },
  {
   "cell_type": "code",
   "execution_count": 40,
   "metadata": {},
   "outputs": [
    {
     "name": "stderr",
     "output_type": "stream",
     "text": [
      "Registered model 'nyc-taxi-xgboost' already exists. Creating a new version of this model...\n",
      "2022/06/24 17:01:26 INFO mlflow.tracking._model_registry.client: Waiting up to 300 seconds for model version to finish creation.                     Model name: nyc-taxi-xgboost, version 2\n",
      "Created version '2' of model 'nyc-taxi-xgboost'.\n"
     ]
    },
    {
     "data": {
      "text/plain": [
       "<ModelVersion: creation_timestamp=1656108086070, current_stage='None', description=None, last_updated_timestamp=1656108086070, name='nyc-taxi-xgboost', run_id='5c780dd850974d81b019cb8afd900368', run_link=None, source='./mlruns/1/5c780dd850974d81b019cb8afd900368/artifacts/model', status='READY', status_message=None, tags={}, user_id=None, version=2>"
      ]
     },
     "execution_count": 40,
     "metadata": {},
     "output_type": "execute_result"
    }
   ],
   "source": [
    "run_id =\"5c780dd850974d81b019cb8afd900368\"\n",
    "\n",
    "\n",
    "model_uri = f\"runs:/{run_id}/model\"\n",
    "\n",
    "mlflow.register_model(model_uri=model_uri,name=\"nyc-taxi-xgboost\")"
   ]
  },
  {
   "cell_type": "code",
   "execution_count": 41,
   "metadata": {},
   "outputs": [
    {
     "data": {
      "text/plain": [
       "[<RegisteredModel: creation_timestamp=1656108059249, description=None, last_updated_timestamp=1656108086070, latest_versions=[<ModelVersion: creation_timestamp=1656108086070, current_stage='None', description=None, last_updated_timestamp=1656108086070, name='nyc-taxi-xgboost', run_id='5c780dd850974d81b019cb8afd900368', run_link=None, source='./mlruns/1/5c780dd850974d81b019cb8afd900368/artifacts/model', status='READY', status_message=None, tags={}, user_id=None, version=2>], name='nyc-taxi-xgboost', tags={}>]"
      ]
     },
     "execution_count": 41,
     "metadata": {},
     "output_type": "execute_result"
    }
   ],
   "source": [
    "client.list_registered_models()"
   ]
  },
  {
   "cell_type": "code",
   "execution_count": 42,
   "metadata": {},
   "outputs": [
    {
     "name": "stdout",
     "output_type": "stream",
     "text": [
      "version 2, stage : None\n"
     ]
    }
   ],
   "source": [
    "model_name=\"nyc-taxi-xgboost\"\n",
    "latest = client.get_latest_versions(name=model_name)\n",
    "\n",
    "for version in latest:\n",
    "    print(f\"version {version.version}, stage : {version.current_stage}\")"
   ]
  },
  {
   "cell_type": "code",
   "execution_count": 43,
   "metadata": {},
   "outputs": [
    {
     "data": {
      "text/plain": [
       "<ModelVersion: creation_timestamp=1656108086070, current_stage='Staging', description=None, last_updated_timestamp=1656108090432, name='nyc-taxi-xgboost', run_id='5c780dd850974d81b019cb8afd900368', run_link=None, source='./mlruns/1/5c780dd850974d81b019cb8afd900368/artifacts/model', status='READY', status_message=None, tags={}, user_id=None, version=2>"
      ]
     },
     "execution_count": 43,
     "metadata": {},
     "output_type": "execute_result"
    }
   ],
   "source": [
    "\n",
    "\n",
    "from datetime import date\n",
    "\n",
    "date = date.today()\n",
    "new_stage = \"Staging\"\n",
    "\n",
    "client.transition_model_version_stage(\n",
    "    name=model_name,\n",
    "    version=2,\n",
    "    stage= new_stage,\n",
    "    archive_existing_versions=False   \n",
    ")\n"
   ]
  },
  {
   "cell_type": "markdown",
   "metadata": {},
   "source": [
    "# Comparing versions and selecting the new \"Production\" model\n",
    "\n",
    "\n",
    "In the last section, we will retrieve models registered in the model registry and compare their performance on an unseen test set. The idea is to simulate the scenario in which a deployment engineer has to interact with the model registry to decide whether to update the model version that is in production or not.\n",
    "\n",
    "Steps to be performed:\n",
    "1. Load the dataset which corresponds to the NYC Green Taxi Data up to March.\n",
    "2. Download the `DictVectorizer` that was fitted using the training data and saved to MLFlow as an artifact , load with pickle.\n",
    "3. Preprocess the dataset using DictVectorizer so we can properly feed the regressors.\n",
    "4. Make predictions on the test dataset using the model versions that are currently in the model 'staging' and 'production'.\n",
    "5. Based on the results , update the production model.\n",
    "\n",
    "*Note: the model registry doesn't actually deploy the model to production when you transition a model to the \"Production\" stage, it just assign a label to that model version. You should complement the registry with some CI/CD code that does the actual deployment.*"
   ]
  },
  {
   "cell_type": "code",
   "execution_count": 44,
   "metadata": {},
   "outputs": [],
   "source": [
    "from sklearn.metrics import mean_squared_error\n",
    "import pandas as pd\n",
    "import mlflow\n",
    "\n",
    "\n",
    "class Model:\n",
    "    \n",
    "    def __init__(self,filename,name,stage):\n",
    "        self._filename = filename\n",
    "        self.name = name\n",
    "        self.stage = stage\n",
    "        self._df = None\n",
    "    \n",
    "    # PROPERTIES\n",
    "    @property\n",
    "    def filename(self):\n",
    "        return self._filename\n",
    "\n",
    "    @property\n",
    "    def dataframe(self):\n",
    "        return self._df\n",
    "    \n",
    "    # SETTERS\n",
    "    @filename.setter\n",
    "    def filename(self,value):\n",
    "        self._filename = value\n",
    "    \n",
    "    @dataframe.setter\n",
    "    def dataframe(self,value):\n",
    "        self._df = value\n",
    "        \n",
    "    def read_dataframe(self):\n",
    "        if self.filename.endswith('.csv'):\n",
    "            df = pd.read_csv(self.filename)\n",
    "            df.lpep_dropoff_datetime = pd.to_datetime(df.lpep_dropoff_datetime)\n",
    "            df.lpep_pickup_datetime = pd.to_datetime(df.lpep_pickup_datetime)\n",
    "        elif self.filename.endswith('.parquet'):\n",
    "            df = pd.read_parquet(self.filename)\n",
    "\n",
    "        df['duration'] = df.lpep_dropoff_datetime - df.lpep_pickup_datetime\n",
    "        df.duration = df.duration.apply(lambda td: td.total_seconds() / 60)\n",
    "\n",
    "        df = df[(df.duration >= 1) & (df.duration <= 60)]\n",
    "\n",
    "        categorical = ['PULocationID', 'DOLocationID']\n",
    "        df[categorical] = df[categorical].astype(str)\n",
    "        self._df = df\n",
    "\n",
    "    # Get dict vectorizer\n",
    "    def preprocess(self, df, dv):\n",
    "        df['PU_DO'] = df['PULocationID'] + '_' + df['DOLocationID']\n",
    "        categorical = ['PU_DO']\n",
    "        numerical = ['trip_distance']\n",
    "        train_dicts = df[categorical + numerical].to_dict(orient='records')\n",
    "        return dv.transform(train_dicts)\n",
    "    \n",
    "    def test_model(self,X_test, y_test):\n",
    "        model = mlflow.pyfunc.load_model(f\"models:/{self.name}/{self.stage}\")\n",
    "        y_pred = model.predict(X_test)\n",
    "        return {\"rmse\": mean_squared_error(y_test, y_pred, squared=False)}"
   ]
  },
  {
   "cell_type": "code",
   "execution_count": 45,
   "metadata": {},
   "outputs": [],
   "source": [
    "model_name = \"nyc-taxi-regressor\"\n",
    "production_model = Model(\"./data/2021/green_tripdata_2021-03.parquet\",model_name,\"Production\")"
   ]
  },
  {
   "cell_type": "code",
   "execution_count": 46,
   "metadata": {},
   "outputs": [
    {
     "data": {
      "text/plain": [
       "'/home/elegant00/Dropbox/Ml_OpsZoomcampRepo/Week_2/preprocessor'"
      ]
     },
     "execution_count": 46,
     "metadata": {},
     "output_type": "execute_result"
    }
   ],
   "source": [
    "client.download_artifacts(run_id=run_id, path='preprocessor', dst_path='.')"
   ]
  },
  {
   "cell_type": "code",
   "execution_count": null,
   "metadata": {},
   "outputs": [],
   "source": []
  }
 ],
 "metadata": {
  "interpreter": {
   "hash": "d0ffba18ed10f9a8e94a18140f2784fc38d840ff05246856d09cbb34c749f224"
  },
  "kernelspec": {
   "display_name": "Python 3.9.7 ('Ml_Ops')",
   "language": "python",
   "name": "python3"
  },
  "language_info": {
   "codemirror_mode": {
    "name": "ipython",
    "version": 3
   },
   "file_extension": ".py",
   "mimetype": "text/x-python",
   "name": "python",
   "nbconvert_exporter": "python",
   "pygments_lexer": "ipython3",
   "version": "3.9.7"
  },
  "orig_nbformat": 4,
  "vscode": {
   "interpreter": {
    "hash": "d0ffba18ed10f9a8e94a18140f2784fc38d840ff05246856d09cbb34c749f224"
   }
  }
 },
 "nbformat": 4,
 "nbformat_minor": 2
}
