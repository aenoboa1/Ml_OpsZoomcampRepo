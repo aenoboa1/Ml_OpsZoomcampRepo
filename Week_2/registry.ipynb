{
 "cells": [
  {
   "cell_type": "markdown",
   "metadata": {},
   "source": [
    "# Model Registry "
   ]
  },
  {
   "cell_type": "code",
   "execution_count": 25,
   "metadata": {},
   "outputs": [],
   "source": [
    "from mlflow.tracking import MlflowClient\n",
    "\n",
    "ML_FLOW_TRACKING_URI = \"sqlite:///mlflow.db\"\n",
    "\n",
    "client = MlflowClient(tracking_uri=ML_FLOW_TRACKING_URI)"
   ]
  },
  {
   "cell_type": "code",
   "execution_count": 26,
   "metadata": {},
   "outputs": [
    {
     "data": {
      "text/plain": [
       "[<Experiment: artifact_location='./mlruns/0', experiment_id='0', lifecycle_stage='active', name='Default', tags={}>,\n",
       " <Experiment: artifact_location='./mlruns/1', experiment_id='1', lifecycle_stage='active', name='nyctaxi_experiments', tags={}>,\n",
       " <Experiment: artifact_location='./mlruns/2', experiment_id='2', lifecycle_stage='active', name='my_new_experiment', tags={}>]"
      ]
     },
     "execution_count": 26,
     "metadata": {},
     "output_type": "execute_result"
    }
   ],
   "source": [
    "client.list_experiments()"
   ]
  },
  {
   "cell_type": "code",
   "execution_count": null,
   "metadata": {},
   "outputs": [],
   "source": [
    "client.create_experiment(name=\"my_new_experiment\")"
   ]
  },
  {
   "cell_type": "code",
   "execution_count": 29,
   "metadata": {},
   "outputs": [],
   "source": [
    "from mlflow.entities import ViewType\n",
    "\n",
    "runs = client.search_runs(\n",
    "    experiment_ids='1',\n",
    "    filter_string=\"\",\n",
    "    run_view_type=ViewType.ACTIVE_ONLY,\n",
    "    max_results=5,\n",
    "    order_by=['metric.rmse ASC']\n",
    "\n",
    ")"
   ]
  },
  {
   "cell_type": "code",
   "execution_count": null,
   "metadata": {},
   "outputs": [],
   "source": [
    "runs"
   ]
  },
  {
   "cell_type": "code",
   "execution_count": 31,
   "metadata": {},
   "outputs": [
    {
     "name": "stdout",
     "output_type": "stream",
     "text": [
      "run id 005c494ecb1b498885a888c55850ef1f, rmse : 6.3184 \n",
      "run id dde09429b1f84c179243eec50c852483, rmse : 6.3335 \n",
      "run id 61d82629fa0e4bd8a8fca57f2abff37a, rmse : 6.4079 \n",
      "run id 27acbee1ed20481c9a0c96359486260f, rmse : 6.4392 \n",
      "run id 42f37922d56e4b5d87e8401d7cb02fd6, rmse : 6.5392 \n"
     ]
    }
   ],
   "source": [
    "for run in runs:\n",
    "    print(f\"run id {run.info.run_id}, rmse : {run.data.metrics['rmse']:.4f} \")"
   ]
  },
  {
   "cell_type": "code",
   "execution_count": 32,
   "metadata": {},
   "outputs": [],
   "source": [
    "import mlflow\n",
    "mlflow.set_tracking_uri(ML_FLOW_TRACKING_URI)"
   ]
  },
  {
   "cell_type": "code",
   "execution_count": null,
   "metadata": {},
   "outputs": [],
   "source": [
    "run_id =\"dde09429b1f84c179243eec50c852483\"\n",
    "\n",
    "model_uri = f\"runs:/{run_id}/model\"\n",
    "\n",
    "mlflow.register_model(model_uri=model_uri,name=\"nyc-taxi-xgboost\")"
   ]
  },
  {
   "cell_type": "code",
   "execution_count": null,
   "metadata": {},
   "outputs": [],
   "source": [
    "client.list_registered_models()"
   ]
  },
  {
   "cell_type": "code",
   "execution_count": 35,
   "metadata": {},
   "outputs": [
    {
     "name": "stdout",
     "output_type": "stream",
     "text": [
      "version 1, stage : Production\n",
      "version 2, stage : Staging\n",
      "version 4, stage : None\n"
     ]
    }
   ],
   "source": [
    "model_name=\"nyc-taxi-xgboost\"\n",
    "latest = client.get_latest_versions(name=model_name)\n",
    "\n",
    "for version in latest:\n",
    "    print(f\"version {version.version}, stage : {version.current_stage}\")"
   ]
  },
  {
   "cell_type": "code",
   "execution_count": null,
   "metadata": {},
   "outputs": [],
   "source": [
    "\n",
    "\n",
    "from datetime import date\n",
    "\n",
    "date = date.today()\n",
    "new_stage = \"Staging\"\n",
    "\n",
    "client.transition_model_version_stage(\n",
    "    name=model_name,\n",
    "    version=2,\n",
    "    stage= new_stage,\n",
    "    archive_existing_versions=False   \n",
    ")\n"
   ]
  },
  {
   "cell_type": "code",
   "execution_count": 37,
   "metadata": {},
   "outputs": [
    {
     "ename": "NameError",
     "evalue": "name 'model' is not defined",
     "output_type": "error",
     "traceback": [
      "\u001b[0;31m---------------------------------------------------------------------------\u001b[0m",
      "\u001b[0;31mNameError\u001b[0m                                 Traceback (most recent call last)",
      "\u001b[1;32m/home/elegant00/Dropbox/Ml_OpsZoomcampRepo/Week_2/registry.ipynb Cell 13'\u001b[0m in \u001b[0;36m<cell line: 1>\u001b[0;34m()\u001b[0m\n\u001b[1;32m      <a href='vscode-notebook-cell://ssh-remote%2Blinux_gentoo/home/elegant00/Dropbox/Ml_OpsZoomcampRepo/Week_2/registry.ipynb#ch0000012vscode-remote?line=0'>1</a>\u001b[0m client\u001b[39m.\u001b[39mupdate_model_version(\n\u001b[1;32m      <a href='vscode-notebook-cell://ssh-remote%2Blinux_gentoo/home/elegant00/Dropbox/Ml_OpsZoomcampRepo/Week_2/registry.ipynb#ch0000012vscode-remote?line=1'>2</a>\u001b[0m     name\u001b[39m=\u001b[39mmodel_name,\n\u001b[0;32m----> <a href='vscode-notebook-cell://ssh-remote%2Blinux_gentoo/home/elegant00/Dropbox/Ml_OpsZoomcampRepo/Week_2/registry.ipynb#ch0000012vscode-remote?line=2'>3</a>\u001b[0m     version\u001b[39m=\u001b[39mmodel,\n\u001b[1;32m      <a href='vscode-notebook-cell://ssh-remote%2Blinux_gentoo/home/elegant00/Dropbox/Ml_OpsZoomcampRepo/Week_2/registry.ipynb#ch0000012vscode-remote?line=3'>4</a>\u001b[0m \n\u001b[1;32m      <a href='vscode-notebook-cell://ssh-remote%2Blinux_gentoo/home/elegant00/Dropbox/Ml_OpsZoomcampRepo/Week_2/registry.ipynb#ch0000012vscode-remote?line=4'>5</a>\u001b[0m     \n\u001b[1;32m      <a href='vscode-notebook-cell://ssh-remote%2Blinux_gentoo/home/elegant00/Dropbox/Ml_OpsZoomcampRepo/Week_2/registry.ipynb#ch0000012vscode-remote?line=5'>6</a>\u001b[0m )\n",
      "\u001b[0;31mNameError\u001b[0m: name 'model' is not defined"
     ]
    }
   ],
   "source": [
    "\n",
    "client.update_model_version(\n",
    "    name=model_name,\n",
    "    version=model,\n",
    "\n",
    "    \n",
    ")"
   ]
  }
 ],
 "metadata": {
  "interpreter": {
   "hash": "d0ffba18ed10f9a8e94a18140f2784fc38d840ff05246856d09cbb34c749f224"
  },
  "kernelspec": {
   "display_name": "Python 3.9.7 ('Ml_Ops')",
   "language": "python",
   "name": "python3"
  },
  "language_info": {
   "codemirror_mode": {
    "name": "ipython",
    "version": 3
   },
   "file_extension": ".py",
   "mimetype": "text/x-python",
   "name": "python",
   "nbconvert_exporter": "python",
   "pygments_lexer": "ipython3",
   "version": "3.9.7"
  },
  "orig_nbformat": 4,
  "vscode": {
   "interpreter": {
    "hash": "d0ffba18ed10f9a8e94a18140f2784fc38d840ff05246856d09cbb34c749f224"
   }
  }
 },
 "nbformat": 4,
 "nbformat_minor": 2
}
